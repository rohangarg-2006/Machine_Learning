{
  "nbformat": 4,
  "nbformat_minor": 0,
  "metadata": {
    "colab": {
      "provenance": []
    },
    "kernelspec": {
      "name": "python3",
      "display_name": "Python 3"
    },
    "language_info": {
      "name": "python"
    }
  },
  "cells": [
    {
      "cell_type": "code",
      "execution_count": null,
      "metadata": {
        "id": "kaXoM_xaOjTr"
      },
      "outputs": [],
      "source": [
        "from google.colab import drive"
      ]
    },
    {
      "cell_type": "code",
      "source": [
        "drive.mount(\"/content/drive\")"
      ],
      "metadata": {
        "colab": {
          "base_uri": "https://localhost:8080/"
        },
        "id": "_k31mSPgQHOm",
        "outputId": "356485ee-841a-4a09-e82d-99fcd9e9e536"
      },
      "execution_count": null,
      "outputs": [
        {
          "output_type": "stream",
          "name": "stdout",
          "text": [
            "Mounted at /content/drive\n"
          ]
        }
      ]
    },
    {
      "cell_type": "code",
      "source": [
        "import numpy as np,pandas as pd\n",
        "from matplotlib import pyplot as plt\n",
        "%matplotlib inline"
      ],
      "metadata": {
        "id": "QSciQQkIQHc-"
      },
      "execution_count": null,
      "outputs": []
    },
    {
      "cell_type": "code",
      "source": [
        "def one_hot(Y):\n",
        "  one_hot_Y = np.zeros((Y.size, Y.max() + 1))\n",
        "  one_hot_Y[np.arange(Y.size), Y] = 1\n",
        "  one_hot_Y = one_hot_Y.T\n",
        "  return one_hot_Y"
      ],
      "metadata": {
        "id": "vZ9ktYT4u-5B"
      },
      "execution_count": null,
      "outputs": []
    },
    {
      "cell_type": "code",
      "source": [
        "data_table=pd.read_csv(\"/content/drive/MyDrive/Datasets/Classification_train.csv\")"
      ],
      "metadata": {
        "id": "ncPL9gZUQHp5"
      },
      "execution_count": null,
      "outputs": []
    },
    {
      "cell_type": "code",
      "source": [
        "data=data_table.to_numpy()\n",
        "m, n = data.shape\n",
        "data_train = data[:25000,:].T\n",
        "y_raw=data_train[0]\n",
        "y = one_hot(y_raw)\n",
        "x=data_train[1:n]\n",
        "x=x/255\n",
        "data_cv=data[25000:,:].T\n",
        "y_cv=data_cv[0]\n",
        "y_cv=one_hot(y_cv)\n",
        "x_cv=data_cv[1:n]\n",
        "x_cv=x_cv/255"
      ],
      "metadata": {
        "id": "8RLyrHIxQH2v"
      },
      "execution_count": null,
      "outputs": []
    },
    {
      "cell_type": "code",
      "source": [
        "def ReLU(z):\n",
        "  return np.maximum(z, 0)\n",
        "def softmax(z):\n",
        "  A = np.exp(z)/sum(np.exp(z))\n",
        "  return A\n",
        "def ReLU_deriv(Z):\n",
        "  return Z > 0"
      ],
      "metadata": {
        "id": "hQ4xzYJAu_B4"
      },
      "execution_count": null,
      "outputs": []
    },
    {
      "cell_type": "code",
      "source": [
        "def initialise_parameters(layer_dims):\n",
        "  parameters = {}\n",
        "  L = len(layer_dims)\n",
        "  for l in range(1, L):\n",
        "    parameters['W' + str(l)] = np.random.randn(layer_dims[l], layer_dims[l-1]) / np.sqrt(layer_dims[l-1]) #*0.01\n",
        "    parameters['b' + str(l)] = np.zeros((layer_dims[l], 1))\n",
        "  return parameters"
      ],
      "metadata": {
        "id": "gqEgtTfcudEH"
      },
      "execution_count": null,
      "outputs": []
    },
    {
      "cell_type": "code",
      "source": [
        "def forward_prop(X, parameters):\n",
        "  w_a_values = {}    #contains w and a\n",
        "  L = len(parameters) // 2\n",
        "  w_a_values['A0'] = X\n",
        "  for l in range(1, L):\n",
        "    w_a_values['Z' + str(l)] = parameters['W' + str(l)].dot(w_a_values['A' + str(l-1)]) + parameters['b' + str(l)]\n",
        "    w_a_values['A' + str(l)] = ReLU(w_a_values['Z' + str(l)])\n",
        "  w_a_values['Z' + str(L)] = parameters['W' + str(L)].dot(w_a_values['A' + str(L-1)]) + parameters['b' + str(L)]\n",
        "  w_a_values['A' + str(L)] = softmax(w_a_values['Z' + str(L)])\n",
        "  return w_a_values['A' + str(L)], w_a_values"
      ],
      "metadata": {
        "id": "v1C47ilnu--f"
      },
      "execution_count": null,
      "outputs": []
    },
    {
      "cell_type": "code",
      "source": [
        "def compute_cost(AL, Y):\n",
        "  m = Y.shape[1]\n",
        "  cost = -(1./m) * np.sum(Y * np.log(AL))\n",
        "  cost = np.squeeze(cost)      # To make sure the cost's shape is what we expect\n",
        "  return cost"
      ],
      "metadata": {
        "id": "p-pT8qFm70Ah"
      },
      "execution_count": null,
      "outputs": []
    },
    {
      "cell_type": "code",
      "source": [
        "def backward_prop(AL, Y, parameters, w_a_values):\n",
        "  grads = {}\n",
        "  L = len(parameters)//2\n",
        "  m = AL.shape[1]\n",
        "  grads[\"dZ\" + str(L)] = AL - Y\n",
        "  grads[\"dW\" + str(L)] = 1./m * np.dot(grads[\"dZ\" + str(L)],w_a_values['A' + str(L-1)].T)\n",
        "  grads[\"db\" + str(L)] = 1./m * np.sum(grads[\"dZ\" + str(L)], axis = 1, keepdims = True)\n",
        "  for l in reversed(range(1, L)):\n",
        "    grads[\"dZ\" + str(l)] = np.dot(parameters['W' + str(l+1)].T,grads[\"dZ\" + str(l+1)])*ReLU_deriv(w_a_values['A' + str(l)])\n",
        "    grads[\"dW\" + str(l)] = 1./m * np.dot(grads[\"dZ\" + str(l)],w_a_values['A' + str(l-1)].T)\n",
        "    grads[\"db\" + str(l)] = 1./m * np.sum(grads[\"dZ\" + str(l)], axis = 1, keepdims = True)\n",
        "  return grads"
      ],
      "metadata": {
        "id": "qnfTTuAtu-2b"
      },
      "execution_count": null,
      "outputs": []
    },
    {
      "cell_type": "code",
      "source": [
        "def update_parameters(parameters,grads,alpha):\n",
        "  L = len(parameters) // 2\n",
        "  for l in range(L):\n",
        "    parameters[\"W\" + str(l+1)] = parameters[\"W\" + str(l+1)] -alpha * grads[\"dW\" + str(l+1)]\n",
        "    parameters[\"b\" + str(l+1)] = parameters[\"b\" + str(l+1)] -alpha * grads[\"db\" + str(l+1)]\n",
        "  return parameters"
      ],
      "metadata": {
        "id": "xxSmrqIeu-z0"
      },
      "execution_count": null,
      "outputs": []
    },
    {
      "cell_type": "code",
      "source": [
        "def get_accuracy(X,y,parameters):\n",
        "  m = X.shape[1]\n",
        "  y_pred,_ = forward_prop(X, parameters)\n",
        "  y = np.argmax(y, 0)\n",
        "  y_pred = np.argmax(y_pred, axis=0)\n",
        "  a=np.round(np.sum((y_pred == y)/m), 3)\n",
        "  return a"
      ],
      "metadata": {
        "id": "4wMsGvGoyEap"
      },
      "execution_count": null,
      "outputs": []
    },
    {
      "cell_type": "code",
      "source": [
        "def predict(X,parameters):\n",
        "  m = X.shape[1]\n",
        "  y_pred,_ = forward_prop(X, parameters)\n",
        "  y_pred = np.argmax(y_pred, axis=0)\n",
        "  return(y_pred)"
      ],
      "metadata": {
        "id": "5DujjNZ9Ynci"
      },
      "execution_count": null,
      "outputs": []
    },
    {
      "cell_type": "code",
      "source": [
        "def gradient_descent(X,Y,layers_dims,alpha,iterations):\n",
        "  cost=[]\n",
        "  itera=[]\n",
        "  accu=[]\n",
        "  parameters = initialise_parameters(layers_dims)\n",
        "  for i in range(1,iterations+1):\n",
        "    AL, w_a_values = forward_prop(X, parameters)\n",
        "    grads = backward_prop(AL, Y, parameters, w_a_values)\n",
        "    parameters = update_parameters(parameters, grads, alpha)\n",
        "    if (i%50==0):\n",
        "      acc=get_accuracy(X, Y, parameters)\n",
        "      acc=acc*100\n",
        "      c=compute_cost(AL, Y)\n",
        "      itera.append(i)\n",
        "      cost.append(c)\n",
        "      print(\"Iteration: \", i,\"    Cost: \",np.round(c,4),\"    Accuracy: \",acc,\"%\")\n",
        "      accu.append(acc)\n",
        "  return parameters,itera,accu,cost"
      ],
      "metadata": {
        "id": "RV0-DtGWu-xN"
      },
      "execution_count": null,
      "outputs": []
    },
    {
      "cell_type": "code",
      "source": [
        "layers_dims = [x.shape[0],256,128,64,y.shape[0]]\n",
        "parameters,itera,accu,cost = gradient_descent(x,y,layers_dims,1,500)"
      ],
      "metadata": {
        "colab": {
          "base_uri": "https://localhost:8080/"
        },
        "id": "cFZfXm30v_ji",
        "outputId": "142c3bf0-a46b-499c-ea35-c5d63e1a49f8"
      },
      "execution_count": null,
      "outputs": [
        {
          "output_type": "stream",
          "name": "stdout",
          "text": [
            "Iteration:  50     Cost:  0.3234     Accuracy:  90.2 %\n",
            "Iteration:  100     Cost:  0.1064     Accuracy:  97.1 %\n",
            "Iteration:  150     Cost:  0.0678     Accuracy:  98.0 %\n",
            "Iteration:  200     Cost:  0.0572     Accuracy:  98.5 %\n",
            "Iteration:  250     Cost:  0.0387     Accuracy:  99.1 %\n",
            "Iteration:  300     Cost:  0.0281     Accuracy:  99.3 %\n",
            "Iteration:  350     Cost:  0.0206     Accuracy:  99.5 %\n",
            "Iteration:  400     Cost:  0.0151     Accuracy:  99.7 %\n",
            "Iteration:  450     Cost:  0.0112     Accuracy:  99.8 %\n",
            "Iteration:  500     Cost:  0.0086     Accuracy:  99.9 %\n"
          ]
        }
      ]
    },
    {
      "cell_type": "code",
      "source": [
        "print(\"As we can see that our model is giving pretty good accuracy we can now check for the cross validation data.\")"
      ],
      "metadata": {
        "id": "ZPNSRBjwwC0t",
        "colab": {
          "base_uri": "https://localhost:8080/"
        },
        "outputId": "934e9431-e36f-441d-8d5c-4852dd66a33f"
      },
      "execution_count": null,
      "outputs": [
        {
          "output_type": "stream",
          "name": "stdout",
          "text": [
            "As we can see that our model is giving pretty good accuracy we can now check for the cross validation data.\n"
          ]
        }
      ]
    },
    {
      "cell_type": "code",
      "source": [
        "plt.plot(itera,accu)\n",
        "plt.xlabel(\"Number of Iterations\")\n",
        "plt.ylabel(\"Accuracy(in %)\")\n",
        "plt.show()"
      ],
      "metadata": {
        "id": "dOpu33ea5Ytx",
        "colab": {
          "base_uri": "https://localhost:8080/",
          "height": 449
        },
        "outputId": "0b40f957-cdcb-4e43-cc17-26d0d0450723"
      },
      "execution_count": null,
      "outputs": [
        {
          "output_type": "display_data",
          "data": {
            "text/plain": [
              "<Figure size 640x480 with 1 Axes>"
            ],
            "image/png": "[encoded data removed]"
          },
          "metadata": {}
        }
      ]
    },
    {
      "cell_type": "code",
      "source": [
        "plt.plot(itera,cost)\n",
        "plt.xlabel(\"Number of Iterations\")\n",
        "plt.ylabel(\"Cost\")\n",
        "plt.show()"
      ],
      "metadata": {
        "colab": {
          "base_uri": "https://localhost:8080/",
          "height": 449
        },
        "id": "nHz0-CtwYXO4",
        "outputId": "69eaa88d-a3ee-4552-a5eb-9585c532c4a0"
      },
      "execution_count": null,
      "outputs": [
        {
          "output_type": "display_data",
          "data": {
            "text/plain": [
              "<Figure size 640x480 with 1 Axes>"
            ],
            "image/png": "[encoded data removed]"
          },
          "metadata": {}
        }
      ]
    },
    {
      "cell_type": "code",
      "source": [
        "y_predict_cv=predict(x_cv,parameters)"
      ],
      "metadata": {
        "id": "Q1BOJ09-17jD"
      },
      "execution_count": null,
      "outputs": []
    },
    {
      "cell_type": "code",
      "source": [
        "acc=get_accuracy(x_cv,y_cv,parameters)\n",
        "print(acc*100,\"%\")\n",
        "print(\"As the accuracy in cross validation set is also pretty good we can finalise our code.\")"
      ],
      "metadata": {
        "id": "En_LYmqM2P42",
        "colab": {
          "base_uri": "https://localhost:8080/"
        },
        "outputId": "6ee0c185-08c0-4ed0-b587-72a6b984e8a3"
      },
      "execution_count": null,
      "outputs": [
        {
          "output_type": "stream",
          "name": "stdout",
          "text": [
            "98.5 %\n",
            "As the accuracy in cross validation set is also pretty good we can finalise our code.\n"
          ]
        }
      ]
    },
    {
      "cell_type": "code",
      "source": [
        "data_table_test=pd.read_csv(\"/content/drive/MyDrive/Datasets/Classification_test.csv\")\n",
        "data_test=data_table_test.to_numpy()\n",
        "x_test=data_test[:,1:]\n",
        "x_test=x_test/255\n",
        "x_test=x_test.T"
      ],
      "metadata": {
        "id": "dVJVgQDh2Z_k"
      },
      "execution_count": null,
      "outputs": []
    },
    {
      "cell_type": "code",
      "source": [
        "y_test=predict(x_test,parameters)"
      ],
      "metadata": {
        "id": "oP1NhOE53EqU"
      },
      "execution_count": null,
      "outputs": []
    },
    {
      "cell_type": "code",
      "source": [
        "y_test_pd=pd.DataFrame(y_test)"
      ],
      "metadata": {
        "id": "goeNk4Dz3fTc"
      },
      "execution_count": null,
      "outputs": []
    },
    {
      "cell_type": "code",
      "source": [
        "y_test_pd.to_csv(\"Result_Neural_Network.csv\")\n",
        "from google.colab import files\n",
        "files.download('Result_Neural_Network.csv')"
      ],
      "metadata": {
        "id": "bxnJGvdM3fNW",
        "colab": {
          "base_uri": "https://localhost:8080/",
          "height": 17
        },
        "outputId": "cfb5a866-9697-4bf9-cdae-053f5570999d"
      },
      "execution_count": null,
      "outputs": [
        {
          "output_type": "display_data",
          "data": {
            "text/plain": [
              "<IPython.core.display.Javascript object>"
            ],
            "application/javascript": [
              "\n",
              "    async function download(id, filename, size) {\n",
              "      if (!google.colab.kernel.accessAllowed) {\n",
              "        return;\n",
              "      }\n",
              "      const div = document.createElement('div');\n",
              "      const label = document.createElement('label');\n",
              "      label.textContent = `Downloading \"${filename}\": `;\n",
              "      div.appendChild(label);\n",
              "      const progress = document.createElement('progress');\n",
              "      progress.max = size;\n",
              "      div.appendChild(progress);\n",
              "      document.body.appendChild(div);\n",
              "\n",
              "      const buffers = [];\n",
              "      let downloaded = 0;\n",
              "\n",
              "      const channel = await google.colab.kernel.comms.open(id);\n",
              "      // Send a message to notify the kernel that we're ready.\n",
              "      channel.send({})\n",
              "\n",
              "      for await (const message of channel.messages) {\n",
              "        // Send a message to notify the kernel that we're ready.\n",
              "        channel.send({})\n",
              "        if (message.buffers) {\n",
              "          for (const buffer of message.buffers) {\n",
              "            buffers.push(buffer);\n",
              "            downloaded += buffer.byteLength;\n",
              "            progress.value = downloaded;\n",
              "          }\n",
              "        }\n",
              "      }\n",
              "      const blob = new Blob(buffers, {type: 'application/binary'});\n",
              "      const a = document.createElement('a');\n",
              "      a.href = window.URL.createObjectURL(blob);\n",
              "      a.download = filename;\n",
              "      div.appendChild(a);\n",
              "      a.click();\n",
              "      div.remove();\n",
              "    }\n",
              "  "
            ]
          },
          "metadata": {}
        },
        {
          "output_type": "display_data",
          "data": {
            "text/plain": [
              "<IPython.core.display.Javascript object>"
            ],
            "application/javascript": [
              "download(\"download_ef54a7fa-df8b-4369-b7e6-905b5f26e37b\", \"Result_Neural_Network.csv\", 68893)"
            ]
          },
          "metadata": {}
        }
      ]
    }
  ]
}