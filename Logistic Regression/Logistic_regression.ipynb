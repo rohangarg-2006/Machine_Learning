{
  "cells": [
    {
      "cell_type": "code",
      "execution_count": null,
      "metadata": {
        "id": "qcTI6S8ktoxx"
      },
      "outputs": [],
      "source": [
        "from google.colab import drive"
      ]
    },
    {
      "cell_type": "code",
      "execution_count": null,
      "metadata": {
        "colab": {
          "base_uri": "https://localhost:8080/"
        },
        "id": "bqRq11T6t17C",
        "outputId": "d45f28d5-663b-430b-f25a-0e783352717a"
      },
      "outputs": [
        {
          "output_type": "stream",
          "name": "stdout",
          "text": [
            "Mounted at /content/drive\n"
          ]
        }
      ],
      "source": [
        "drive.mount(\"/content/drive\")"
      ]
    },
    {
      "cell_type": "code",
      "execution_count": null,
      "metadata": {
        "id": "J5mxEOPxt19l"
      },
      "outputs": [],
      "source": [
        "import numpy as np,pandas as pd\n",
        "from matplotlib import pyplot as plt\n",
        "%matplotlib inline"
      ]
    },
    {
      "cell_type": "code",
      "execution_count": null,
      "metadata": {
        "id": "YS0lBs7gt2AN"
      },
      "outputs": [],
      "source": [
        "data_table=pd.read_csv(\"/content/drive/MyDrive/Datasets/Classification_train.csv\")"
      ]
    },
    {
      "cell_type": "code",
      "execution_count": null,
      "metadata": {
        "id": "WYXu1ivjt2Cy"
      },
      "outputs": [],
      "source": [
        "data=data_table.to_numpy()"
      ]
    },
    {
      "cell_type": "code",
      "execution_count": null,
      "metadata": {
        "id": "daTH28bdu9a0"
      },
      "outputs": [],
      "source": [
        "y_total=data[:,0]\n",
        "y=y_total[:25000]\n",
        "y_cv=y_total[25000:]"
      ]
    },
    {
      "cell_type": "code",
      "execution_count": null,
      "metadata": {
        "id": "EWO-IIMwu9dm"
      },
      "outputs": [],
      "source": [
        "x_train=data[:,1:]\n",
        "x=x_train/255\n",
        "x_cv=x[25000:]\n",
        "x=x[:25000]\n",
        "x=x.T\n",
        "y=y.reshape(1,x.shape[1])\n",
        "x_cv=x_cv.T\n",
        "y_cv=y_cv.reshape(1,x_cv.shape[1])"
      ]
    },
    {
      "cell_type": "code",
      "execution_count": null,
      "metadata": {
        "id": "rDDWpbG3B-RE"
      },
      "outputs": [],
      "source": [
        "def sigmoid(z):\n",
        "    g = 1/(1+np.exp(-z))\n",
        "    return(g)"
      ]
    },
    {
      "cell_type": "code",
      "execution_count": null,
      "metadata": {
        "id": "YuIgTx18kCUL"
      },
      "outputs": [],
      "source": [
        "def gradient_descent(x,y,alpha,iterations):\n",
        "  n,m=np.shape(x)\n",
        "  w=np.zeros((n,10))\n",
        "  b=np.zeros((1,10))\n",
        "  cf=[]\n",
        "  itera=[]\n",
        "  for i in range(1,iterations+1):\n",
        "    z=np.dot(w.T,x)+b.T\n",
        "    a=sigmoid(z)\n",
        "    dj_dw=(1/m)*np.dot(a-y,x.T)\n",
        "    dj_db=(1/m)*np.sum(a-y)\n",
        "    w=w-alpha*dj_dw.T\n",
        "    b=b-alpha*dj_db.T\n",
        "    if (i%500==0):\n",
        "      cost=-(1/m)*np.sum(y*np.log(a)+(1-y)*np.log(1-a))\n",
        "      print(\"Iterations: \",i,end=\"    \")\n",
        "      print(\"Cost : \",cost)\n",
        "      cf.append(cost)\n",
        "      itera.append(i)\n",
        "  print(\"Total Iterations taken: \",iterations)\n",
        "  print(\"Cost: \",cost)\n",
        "  return(w,b,cf,itera)"
      ]
    },
    {
      "cell_type": "code",
      "execution_count": null,
      "metadata": {
        "id": "Qry1FnSYKhxA"
      },
      "outputs": [],
      "source": [
        "def y_change(y,q):\n",
        "  y_changed=np.zeros((np.shape(y)))\n",
        "  m=np.shape(y)[1]\n",
        "  for i in range(m):\n",
        "    if(y[0,i]==q):\n",
        "      y_changed[0,i]=1\n",
        "    else:\n",
        "      y_changed[0,i]=0\n",
        "  return(y_changed)"
      ]
    },
    {
      "cell_type": "code",
      "execution_count": null,
      "metadata": {
        "colab": {
          "base_uri": "https://localhost:8080/"
        },
        "id": "v_FN04_LqwKv",
        "outputId": "b5e802c3-1a90-4d61-82da-713ffec033a4"
      },
      "outputs": [
        {
          "output_type": "stream",
          "name": "stdout",
          "text": [
            "Iterations:  500    Cost :  0.26642289257089274\n",
            "Iterations:  1000    Cost :  0.24069780980808747\n",
            "Iterations:  1500    Cost :  0.22706841128413954\n",
            "Iterations:  2000    Cost :  0.21799080471435225\n",
            "Iterations:  2500    Cost :  0.21127016909453972\n",
            "Iterations:  3000    Cost :  0.20597674602668883\n",
            "Total Iterations taken:  3000\n",
            "Cost:  0.20597674602668883\n"
          ]
        }
      ],
      "source": [
        "y_changed=np.zeros((10,25000))\n",
        "for i in range(10):\n",
        "  y_temp=y_change(y,i)\n",
        "  y_changed[i]=y_temp\n",
        "w,b,cf,itera=gradient_descent(x,y_changed,5,3000)\n"
      ]
    },
    {
      "cell_type": "code",
      "source": [
        "y_hat=np.zeros(y.shape)\n",
        "for i in range(25000):\n",
        "  s=np.zeros((10,))\n",
        "  q=x[:,i]\n",
        "  for j in range(10):\n",
        "    z=np.dot(w[:,j],q.T)+b[:,j]\n",
        "    a=sigmoid(z)\n",
        "    s[j]=a\n",
        "  m=np.argmax(s)\n",
        "  y_hat[0,i]=m"
      ],
      "metadata": {
        "id": "g52Xfx5WTxZX"
      },
      "execution_count": null,
      "outputs": []
    },
    {
      "cell_type": "code",
      "source": [
        "correct=0\n",
        "for i in range(np.shape(y_hat)[1]):\n",
        "  if(y_hat[:,i]-y[:,i])==0:\n",
        "    correct+=1\n",
        "accuracy=(correct/25000)*100\n",
        "print(\"The Accuracy for training set is: \",accuracy,\"%\")\n",
        "print(\"Now lets check the accuracy with cross validation set\")"
      ],
      "metadata": {
        "colab": {
          "base_uri": "https://localhost:8080/"
        },
        "id": "DzebBSbNT9VK",
        "outputId": "a4fcfb3a-6342-49d1-8391-9a7073e62b0e"
      },
      "execution_count": null,
      "outputs": [
        {
          "output_type": "stream",
          "name": "stdout",
          "text": [
            "The Accuracy for training set is:  97.792 %\n",
            "Now lets check the accuracy with cross validation set\n"
          ]
        }
      ]
    },
    {
      "cell_type": "code",
      "execution_count": null,
      "metadata": {
        "id": "78Zt-RSjZDaK"
      },
      "outputs": [],
      "source": [
        "y_predicted=np.zeros(np.shape(y_cv))"
      ]
    },
    {
      "cell_type": "code",
      "execution_count": null,
      "metadata": {
        "id": "4pDsMpS0ZDUb"
      },
      "outputs": [],
      "source": [
        "for i in range(5000):\n",
        "  s=np.zeros((10,))\n",
        "  q=x_cv[:,i]\n",
        "  for j in range(10):\n",
        "    z=np.dot(w[:,j],q.T)+b[:,j]\n",
        "    a=sigmoid(z)\n",
        "    s[j]=a\n",
        "  m=np.argmax(s)\n",
        "  y_predicted[0,i]=m"
      ]
    },
    {
      "cell_type": "code",
      "execution_count": null,
      "metadata": {
        "colab": {
          "base_uri": "https://localhost:8080/"
        },
        "id": "A3VoIhSmTIgY",
        "outputId": "f988a55a-eb9f-49c3-af79-19337270e766"
      },
      "outputs": [
        {
          "output_type": "stream",
          "name": "stdout",
          "text": [
            "The Accuracy for cross validation set is:  96.7 %\n",
            "As is it a pretty good accuracy hence we can finalise this value of k\n"
          ]
        }
      ],
      "source": [
        "correct=0\n",
        "for i in range(np.shape(y_predicted)[1]):\n",
        "  if(y_predicted[:,i]-y_cv[:,i])==0:\n",
        "    correct+=1\n",
        "accuracy=(correct/5000)*100\n",
        "print(\"The Accuracy for cross validation set is: \",accuracy,\"%\")\n",
        "print(\"As is it a pretty good accuracy hence we can finalise this value of k\")"
      ]
    },
    {
      "cell_type": "code",
      "source": [
        "plt.plot(itera,cf)\n",
        "plt.xlabel(\"Number of Iterations\")\n",
        "plt.ylabel(\"Cost Function\")\n",
        "plt.show()"
      ],
      "metadata": {
        "colab": {
          "base_uri": "https://localhost:8080/",
          "height": 449
        },
        "id": "XhIgJp_MZoBb",
        "outputId": "70756037-2908-43f7-a016-ec844956cba9"
      },
      "execution_count": null,
      "outputs": [
        {
          "output_type": "display_data",
          "data": {
            "text/plain": [
              "<Figure size 640x480 with 1 Axes>"
            ],
            "image/png": "[encoded data removed]"
          },
          "metadata": {}
        }
      ]
    },
    {
      "cell_type": "code",
      "execution_count": null,
      "metadata": {
        "id": "Kmtb_Vj-TjCT"
      },
      "outputs": [],
      "source": [
        "data_table_test=pd.read_csv(\"/content/drive/MyDrive/Datasets/Classification_test.csv\")\n",
        "data_test=data_table_test.to_numpy()"
      ]
    },
    {
      "cell_type": "code",
      "execution_count": null,
      "metadata": {
        "id": "_XdLVRlXVq42"
      },
      "outputs": [],
      "source": [
        "x_test=data_test[:,1:]\n",
        "x_test=x_test.T\n",
        "x_test=x_test/255\n",
        "y_test=np.zeros((1,10000))"
      ]
    },
    {
      "cell_type": "code",
      "execution_count": null,
      "metadata": {
        "id": "6HCYmxGqVrVx"
      },
      "outputs": [],
      "source": [
        "for i in range(10000):\n",
        "  s=np.zeros((10,))\n",
        "  q=x_test[:,i]\n",
        "  for j in range(10):\n",
        "    z=np.dot(w[:,j],q.T)+b[:,j]\n",
        "    a=sigmoid(z)\n",
        "    s[j]=a\n",
        "  m=np.argmax(s)\n",
        "  y_test[0,i]=m"
      ]
    },
    {
      "cell_type": "code",
      "execution_count": null,
      "metadata": {
        "id": "g4uxZH3CWH9f"
      },
      "outputs": [],
      "source": [
        "y_test_pd=pd.DataFrame(y_test.T)"
      ]
    },
    {
      "cell_type": "code",
      "execution_count": null,
      "metadata": {
        "id": "DKyVkZXaWH69"
      },
      "outputs": [],
      "source": [
        "y_test_pd.to_csv(\"Result_Logistic_regression.csv\")\n",
        "from google.colab import files\n",
        "files.download('Result_Logistic_regression.csv')"
      ]
    }
  ],
  "metadata": {
    "colab": {
      "provenance": []
    },
    "kernelspec": {
      "display_name": "Python 3",
      "name": "python3"
    },
    "language_info": {
      "name": "python"
    }
  },
  "nbformat": 4,
  "nbformat_minor": 0
}