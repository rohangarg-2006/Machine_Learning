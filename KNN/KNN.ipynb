{
  "nbformat": 4,
  "nbformat_minor": 0,
  "metadata": {
    "colab": {
      "provenance": []
    },
    "kernelspec": {
      "name": "python3",
      "display_name": "Python 3"
    },
    "language_info": {
      "name": "python"
    }
  },
  "cells": [
    {
      "cell_type": "code",
      "execution_count": null,
      "metadata": {
        "id": "UQuUnJcnjvW8"
      },
      "outputs": [],
      "source": [
        "from google.colab import drive"
      ]
    },
    {
      "cell_type": "code",
      "source": [
        "drive.mount(\"/content/drive\")"
      ],
      "metadata": {
        "colab": {
          "base_uri": "https://localhost:8080/"
        },
        "id": "t52cuVYdz_vU",
        "outputId": "80c5c842-2e6b-4b4c-fd18-37482c309aa6"
      },
      "execution_count": null,
      "outputs": [
        {
          "output_type": "stream",
          "name": "stdout",
          "text": [
            "Drive already mounted at /content/drive; to attempt to forcibly remount, call drive.mount(\"/content/drive\", force_remount=True).\n"
          ]
        }
      ]
    },
    {
      "cell_type": "code",
      "source": [
        "import numpy as np,pandas as pd\n",
        "from matplotlib import pyplot as plt\n",
        "%matplotlib inline"
      ],
      "metadata": {
        "id": "kckOdCQJ0Bu7"
      },
      "execution_count": null,
      "outputs": []
    },
    {
      "cell_type": "code",
      "source": [
        "data_table=pd.read_csv(\"/content/drive/MyDrive/Datasets/Classification_train.csv\")"
      ],
      "metadata": {
        "id": "YTUbx7qM0GiE"
      },
      "execution_count": null,
      "outputs": []
    },
    {
      "cell_type": "code",
      "source": [
        "data=data_table.to_numpy()"
      ],
      "metadata": {
        "id": "iNxssFME0KVj"
      },
      "execution_count": null,
      "outputs": []
    },
    {
      "cell_type": "code",
      "source": [
        "y_train=data[:,0]\n",
        "y=y_train[:25000]\n",
        "y_cv=y_train[25000:]"
      ],
      "metadata": {
        "id": "Oc3k-fXb0MSI"
      },
      "execution_count": null,
      "outputs": []
    },
    {
      "cell_type": "code",
      "source": [
        "x_train=data[:,1:]\n",
        "x=x_train[:25000,:]\n",
        "x_cv=x_train[25000:,:]"
      ],
      "metadata": {
        "id": "oBjz3aIp0WiU"
      },
      "execution_count": null,
      "outputs": []
    },
    {
      "cell_type": "code",
      "source": [
        "def distance(p1,p2):\n",
        "  d=np.sqrt(np.sum((p1-p2)**2,axis=1))\n",
        "  return(d)"
      ],
      "metadata": {
        "id": "cg3lV_vj1BO2"
      },
      "execution_count": null,
      "outputs": []
    },
    {
      "cell_type": "code",
      "source": [
        "def KNN(x,y,x_cv,k):\n",
        "  m=np.shape(x_cv)[0]\n",
        "  y_predicted=np.zeros((m,))\n",
        "  dist=np.zeros((m,x.shape[0]))\n",
        "  for i in range(x.shape[0]):\n",
        "    dist[:,i]=distance(x[i],x_cv)\n",
        "  for i in range(m):\n",
        "    nearest_neighbors_indices=np.argsort(dist[i,:])[:k]\n",
        "    nearest_labels=y[nearest_neighbors_indices]\n",
        "    count=np.bincount(nearest_labels)\n",
        "    mode_index=np.argmax(count)\n",
        "    ans=mode_index\n",
        "    y_predicted[i]=ans\n",
        "  return(y_predicted)"
      ],
      "metadata": {
        "id": "L1NrsvwU3STx"
      },
      "execution_count": null,
      "outputs": []
    },
    {
      "cell_type": "code",
      "source": [
        "y_predicted=KNN(x,y,x_cv,3)"
      ],
      "metadata": {
        "id": "4aPs3HiihR6z"
      },
      "execution_count": null,
      "outputs": []
    },
    {
      "cell_type": "code",
      "source": [
        "correct=0\n",
        "for i in range(np.shape(y_predicted)[0]):\n",
        "  if(y_predicted[i]-y_cv[i])==0:\n",
        "    correct+=1\n",
        "accuracy=(correct/5000)*100\n",
        "print(\"The Accuracy is: \",accuracy,\"%\")\n",
        "print(\"As is it a pretty good accuracy hence we can finalise this value of k\")"
      ],
      "metadata": {
        "id": "Kratzbv2xwj0",
        "colab": {
          "base_uri": "https://localhost:8080/"
        },
        "outputId": "a7337d48-caed-46b6-adfb-20232325d3b9"
      },
      "execution_count": null,
      "outputs": [
        {
          "output_type": "stream",
          "name": "stdout",
          "text": [
            "The Accuracy is:  98.08 %\n",
            "As is it a pretty good accuracy hence we can finalise this value of k\n"
          ]
        }
      ]
    },
    {
      "cell_type": "code",
      "source": [
        "data_table_test=pd.read_csv(\"/content/drive/MyDrive/Datasets/Classification_test.csv\")\n",
        "data_test=data_table_test.to_numpy()"
      ],
      "metadata": {
        "id": "iHdHJZmB5M32"
      },
      "execution_count": null,
      "outputs": []
    },
    {
      "cell_type": "code",
      "source": [
        "x_test=data_test[:,1:]"
      ],
      "metadata": {
        "id": "n5ZZ1ztT5gQl"
      },
      "execution_count": null,
      "outputs": []
    },
    {
      "cell_type": "code",
      "source": [
        "y_test=KNN(x,y,x_test,3)"
      ],
      "metadata": {
        "id": "Mu20-Vki54Iq"
      },
      "execution_count": null,
      "outputs": []
    },
    {
      "cell_type": "code",
      "source": [
        "y_test_pd=pd.DataFrame(y_test)"
      ],
      "metadata": {
        "id": "s7EEgI2_6DhW"
      },
      "execution_count": null,
      "outputs": []
    },
    {
      "cell_type": "code",
      "source": [
        "y_test_pd.to_csv(\"Result_KNN.csv\")\n",
        "from google.colab import files\n",
        "files.download('Result_KNN.csv')"
      ],
      "metadata": {
        "colab": {
          "base_uri": "https://localhost:8080/",
          "height": 17
        },
        "id": "Y71XpZiZ6Sr5",
        "outputId": "8efc830f-f93a-4f86-a983-66ea3c60945f"
      },
      "execution_count": null,
      "outputs": [
        {
          "output_type": "display_data",
          "data": {
            "text/plain": [
              "<IPython.core.display.Javascript object>"
            ],
            "application/javascript": [
              "\n",
              "    async function download(id, filename, size) {\n",
              "      if (!google.colab.kernel.accessAllowed) {\n",
              "        return;\n",
              "      }\n",
              "      const div = document.createElement('div');\n",
              "      const label = document.createElement('label');\n",
              "      label.textContent = `Downloading \"${filename}\": `;\n",
              "      div.appendChild(label);\n",
              "      const progress = document.createElement('progress');\n",
              "      progress.max = size;\n",
              "      div.appendChild(progress);\n",
              "      document.body.appendChild(div);\n",
              "\n",
              "      const buffers = [];\n",
              "      let downloaded = 0;\n",
              "\n",
              "      const channel = await google.colab.kernel.comms.open(id);\n",
              "      // Send a message to notify the kernel that we're ready.\n",
              "      channel.send({})\n",
              "\n",
              "      for await (const message of channel.messages) {\n",
              "        // Send a message to notify the kernel that we're ready.\n",
              "        channel.send({})\n",
              "        if (message.buffers) {\n",
              "          for (const buffer of message.buffers) {\n",
              "            buffers.push(buffer);\n",
              "            downloaded += buffer.byteLength;\n",
              "            progress.value = downloaded;\n",
              "          }\n",
              "        }\n",
              "      }\n",
              "      const blob = new Blob(buffers, {type: 'application/binary'});\n",
              "      const a = document.createElement('a');\n",
              "      a.href = window.URL.createObjectURL(blob);\n",
              "      a.download = filename;\n",
              "      div.appendChild(a);\n",
              "      a.click();\n",
              "      div.remove();\n",
              "    }\n",
              "  "
            ]
          },
          "metadata": {}
        },
        {
          "output_type": "display_data",
          "data": {
            "text/plain": [
              "<IPython.core.display.Javascript object>"
            ],
            "application/javascript": [
              "download(\"download_fce5980b-26c0-4969-9f95-a12b34e23be6\", \"Result_KNN.csv\", 88893)"
            ]
          },
          "metadata": {}
        }
      ]
    },
    {
      "cell_type": "code",
      "source": [],
      "metadata": {
        "id": "djo2J1Fh9IIX"
      },
      "execution_count": null,
      "outputs": []
    }
  ]
}