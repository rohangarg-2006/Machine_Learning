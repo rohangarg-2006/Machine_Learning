{
  "nbformat": 4,
  "nbformat_minor": 0,
  "metadata": {
    "colab": {
      "provenance": []
    },
    "kernelspec": {
      "name": "python3",
      "display_name": "Python 3"
    },
    "language_info": {
      "name": "python"
    }
  },
  "cells": [
    {
      "cell_type": "code",
      "execution_count": null,
      "metadata": {
        "id": "qcTI6S8ktoxx"
      },
      "outputs": [],
      "source": [
        "from google.colab import drive"
      ]
    },
    {
      "cell_type": "code",
      "execution_count": null,
      "metadata": {
        "colab": {
          "base_uri": "https://localhost:8080/"
        },
        "id": "bqRq11T6t17C",
        "outputId": "530b857d-3d06-4d33-ff9d-1110f8774745"
      },
      "outputs": [
        {
          "output_type": "stream",
          "name": "stdout",
          "text": [
            "Drive already mounted at /content/drive; to attempt to forcibly remount, call drive.mount(\"/content/drive\", force_remount=True).\n"
          ]
        }
      ],
      "source": [
        "drive.mount(\"/content/drive\")"
      ]
    },
    {
      "cell_type": "code",
      "execution_count": null,
      "metadata": {
        "id": "J5mxEOPxt19l"
      },
      "outputs": [],
      "source": [
        "import numpy as np,pandas as pd\n",
        "from matplotlib import pyplot as plt\n",
        "%matplotlib inline"
      ]
    },
    {
      "cell_type": "code",
      "execution_count": null,
      "metadata": {
        "id": "YS0lBs7gt2AN"
      },
      "outputs": [],
      "source": [
        "data_table=pd.read_csv(\"/content/drive/MyDrive/Datasets/kmean_dataset.csv\")\n",
        "data=data_table.to_numpy()"
      ]
    },
    {
      "cell_type": "code",
      "execution_count": null,
      "metadata": {
        "id": "daTH28bdu9a0"
      },
      "outputs": [],
      "source": [
        "x=data"
      ]
    },
    {
      "cell_type": "code",
      "source": [
        "def euclidean_distance(p1,p2):\n",
        "  d=np.sqrt(np.sum((p1-p2)**2))\n",
        "  return(d)"
      ],
      "metadata": {
        "id": "9HkRSigFsgyj"
      },
      "execution_count": null,
      "outputs": []
    },
    {
      "cell_type": "code",
      "source": [
        "def cost_function(x,centroids,cluster_group):\n",
        "  cost=0\n",
        "  for i in range(x.shape[0]):\n",
        "    # for j in range(centroids.shape[0]):\n",
        "    a=cluster_group[i]\n",
        "    cost+=(euclidean_distance(x[i,:],centroids[a])**2)\n",
        "  return(cost)"
      ],
      "metadata": {
        "id": "jx9jCsfT0wOJ"
      },
      "execution_count": null,
      "outputs": []
    },
    {
      "cell_type": "code",
      "source": [
        "def initialise_centroids(x,k):\n",
        "  indices=np.arange(0,x.shape[0],1)\n",
        "  random_indices=np.random.choice(indices,k,replace=False)\n",
        "  centroids=np.array(x[random_indices])\n",
        "  return(centroids)"
      ],
      "metadata": {
        "id": "dOuP8R_wzUUl"
      },
      "execution_count": null,
      "outputs": []
    },
    {
      "cell_type": "code",
      "source": [
        "def assign_centroids(x,centroids):\n",
        "  cluster_group=[]\n",
        "  for i in x:\n",
        "    distance=[]\n",
        "    for j in range(centroids.shape[0]):\n",
        "      distance.append(euclidean_distance(i,centroids[j,:]))\n",
        "    min_distance=min(distance)\n",
        "    index_pos = distance.index(min_distance)\n",
        "    cluster_group.append(index_pos)\n",
        "  return(np.array(cluster_group))"
      ],
      "metadata": {
        "id": "RcTrygQGsgvH"
      },
      "execution_count": null,
      "outputs": []
    },
    {
      "cell_type": "code",
      "source": [
        "def move_centroids(x,cluster_group,k):\n",
        "  new_centroids=[]\n",
        "  for i in range(k):\n",
        "    new_centroids.append(x[cluster_group==i].mean(axis=0))\n",
        "  return(np.array(new_centroids))"
      ],
      "metadata": {
        "id": "VUXxSKdAsgpN"
      },
      "execution_count": null,
      "outputs": []
    },
    {
      "cell_type": "code",
      "source": [
        "def fit_predict(x,k,iterations):\n",
        "  centroids=initialise_centroids(x,k)\n",
        "  for i in range(1,iterations+1):\n",
        "    cluster_group=assign_centroids(x,centroids)\n",
        "    old_centroids=centroids\n",
        "    centroids=move_centroids(x,cluster_group,k)\n",
        "    if (old_centroids==centroids).all():\n",
        "      break\n",
        "  return(cluster_group,centroids)"
      ],
      "metadata": {
        "id": "jbqykqe9pufU"
      },
      "execution_count": null,
      "outputs": []
    },
    {
      "cell_type": "code",
      "source": [
        "def run_k_means(x,k):\n",
        "  cost_min=1e30\n",
        "  for i in range(1,201):\n",
        "    cluster_group,centroids=fit_predict(x,k,100)\n",
        "    c=cost_function(x,centroids,cluster_group)\n",
        "    if c<cost_min:\n",
        "      cost_min=c\n",
        "      cluster_group_min=cluster_group\n",
        "  print(\"For k= \",k,\"   Cost: \",cost_min)\n",
        "  return(cost_min,cluster_group_min)"
      ],
      "metadata": {
        "id": "TpW5iztptKJh"
      },
      "execution_count": null,
      "outputs": []
    },
    {
      "cell_type": "code",
      "source": [
        "k_choosen=np.zeros((15,))\n",
        "cost_for_k=np.zeros((15,))\n",
        "for i in range(1,16):\n",
        "  c,_=run_k_means(x,i)\n",
        "  cost_for_k[i-1]=c\n",
        "  k_choosen[i-1]=i"
      ],
      "metadata": {
        "colab": {
          "base_uri": "https://localhost:8080/"
        },
        "id": "DUM0it6_uQi6",
        "outputId": "08b231a0-0fc3-470e-ff57-cc9ba780a963"
      },
      "execution_count": null,
      "outputs": [
        {
          "output_type": "stream",
          "name": "stdout",
          "text": [
            "For k=  1    Cost:  17592296.383508477\n",
            "For k=  2    Cost:  4543749.61453186\n",
            "For k=  3    Cost:  2370689.68678297\n",
            "For k=  4    Cost:  1331903.0622637179\n",
            "For k=  5    Cost:  916379.1871539169\n",
            "For k=  6    Cost:  647326.002026085\n",
            "For k=  7    Cost:  412137.50910045835\n",
            "For k=  8    Cost:  323211.55263465445\n",
            "For k=  9    Cost:  270954.9292415376\n",
            "For k=  10    Cost:  217887.37856033296\n",
            "For k=  11    Cost:  186937.13060902758\n",
            "For k=  12    Cost:  168109.58554964347\n",
            "For k=  13    Cost:  148385.81886169672\n",
            "For k=  14    Cost:  137420.0371083824\n",
            "For k=  15    Cost:  119431.72363756289\n"
          ]
        }
      ]
    },
    {
      "cell_type": "code",
      "source": [
        "plt.plot(k_choosen,cost_for_k)\n",
        "plt.xlabel(\"K value\")\n",
        "plt.ylabel(\"Cost\")\n",
        "plt.show()"
      ],
      "metadata": {
        "colab": {
          "base_uri": "https://localhost:8080/",
          "height": 465
        },
        "id": "AT6CEeLvuQfs",
        "outputId": "0f36a699-e201-4d48-c103-e6ffe2a0eeb1"
      },
      "execution_count": null,
      "outputs": [
        {
          "output_type": "display_data",
          "data": {
            "text/plain": [
              "<Figure size 640x480 with 1 Axes>"
            ],
            "image/png": "[encoded data removed]"
          },
          "metadata": {}
        }
      ]
    },
    {
      "cell_type": "markdown",
      "source": [
        "###We choose k=4 as the best option for k"
      ],
      "metadata": {
        "id": "7_pmhobu0AWJ"
      }
    },
    {
      "cell_type": "code",
      "source": [
        "def fit_predict_final(x,k,iterations):\n",
        "  cost=[]\n",
        "  itera=[]\n",
        "  centroids=initialise_centroids(x,k)\n",
        "  for i in range(1,iterations+1):\n",
        "    cluster_group=assign_centroids(x,centroids)\n",
        "    old_centroids=centroids\n",
        "    centroids=move_centroids(x,cluster_group,k)\n",
        "    if (old_centroids==centroids).all():\n",
        "      break\n",
        "    c=cost_function(x,centroids,cluster_group)\n",
        "    cost.append(c)\n",
        "    itera.append(i)\n",
        "  return(cluster_group,centroids,cost,itera)"
      ],
      "metadata": {
        "id": "rwxPXR4y1YQP"
      },
      "execution_count": null,
      "outputs": []
    },
    {
      "cell_type": "code",
      "source": [
        "cost_min=1e30\n",
        "k=4\n",
        "cost_min_list=[]\n",
        "itera_min=[]\n",
        "itera_main=[]\n",
        "cost_main=[]\n",
        "for i in range(1,501):\n",
        "  cluster_group,centroids,cost_list,itera=fit_predict_final(x,k,100)\n",
        "  c=cost_function(x,centroids,cluster_group)\n",
        "  itera_main.append(i)\n",
        "  cost_main.append(c)\n",
        "  if c<cost_min:\n",
        "    cost_min=c\n",
        "    cost_min_list=cost_list\n",
        "    itera_min=itera\n",
        "    cluster_group_min=cluster_group\n",
        "print(\"For k = 4, I get the following result->\")\n",
        "print(\"Cost: \",cost_min)\n",
        "print(\"The cluster group is as follows->\")\n",
        "print(cluster_group_min)"
      ],
      "metadata": {
        "colab": {
          "base_uri": "https://localhost:8080/"
        },
        "id": "pd0jNHOdz9Zc",
        "outputId": "83bd96e4-58aa-4c07-9f53-299eca1a64e8"
      },
      "execution_count": null,
      "outputs": [
        {
          "output_type": "stream",
          "name": "stdout",
          "text": [
            "For k = 4, I get the following result->\n",
            "Cost:  1331903.0622637179\n",
            "The cluster group is as follows->\n",
            "[0 0 3 3 2 3 3 3 0 0 3 3 3 0 3 3 3 0 3 2 2 2 0 0 2 2 3 3 0 0 3 3 0 3 0 0 0\n",
            " 0 0 2 2 0 0 2 0 0 0 0 0 3 0 3 3 3 0 0 0 3 3 1 2 1 2 1 1 2 1 1 2 2 0 1 1 0\n",
            " 0 1 1 1 2 1 1 2 2 1 1 1 1 1 2 2 1 1 1 1 1 0 2 1 2 1 2 1 1 1 2 1 1 1 1 2 1\n",
            " 1 2 1 1 1 1 1 1 1 2 1 1 1 1 1 1 1 1 2 2 1 1 2 2 2 2 1 2 2 2 2 1 1 2 2 1 2\n",
            " 2 1 1 1 1 2 2 2 1 0 2 2 1 2 1 2 2 1 2 2 2 2 1 1 2 2 2 2 2 1]\n"
          ]
        }
      ]
    },
    {
      "cell_type": "code",
      "source": [
        "plt.plot(itera_min,cost_min_list)\n",
        "plt.xlabel(\"Number of Iterations for single k means\")\n",
        "plt.ylabel(\"Cost\")\n",
        "plt.show()"
      ],
      "metadata": {
        "colab": {
          "base_uri": "https://localhost:8080/",
          "height": 465
        },
        "id": "jwa67jqb2Vgg",
        "outputId": "1fe24f8c-12aa-4b33-a330-9e99064f8452"
      },
      "execution_count": null,
      "outputs": [
        {
          "output_type": "display_data",
          "data": {
            "text/plain": [
              "<Figure size 640x480 with 1 Axes>"
            ],
            "image/png": "[encoded data removed]"
          },
          "metadata": {}
        }
      ]
    },
    {
      "cell_type": "code",
      "source": [
        "plt.scatter(itera_main[:50],cost_main[:50])\n",
        "plt.xlabel(\"Number of times k means is run\")\n",
        "plt.ylabel(\"Cost\")\n",
        "plt.show()"
      ],
      "metadata": {
        "colab": {
          "base_uri": "https://localhost:8080/",
          "height": 465
        },
        "id": "Z72qW-gW2VdJ",
        "outputId": "0345db3f-10b1-4610-b5a5-6e956d3b8f74"
      },
      "execution_count": null,
      "outputs": [
        {
          "output_type": "display_data",
          "data": {
            "text/plain": [
              "<Figure size 640x480 with 1 Axes>"
            ],
            "image/png": "[encoded data removed]"
          },
          "metadata": {}
        }
      ]
    }
  ]
}