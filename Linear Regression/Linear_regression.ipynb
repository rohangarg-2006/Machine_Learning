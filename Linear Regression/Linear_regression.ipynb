{
  "cells": [
    {
      "cell_type": "code",
      "execution_count": null,
      "metadata": {
        "id": "jn8ZRZO1gnn1"
      },
      "outputs": [],
      "source": [
        "from google.colab import drive"
      ]
    },
    {
      "cell_type": "code",
      "execution_count": null,
      "metadata": {
        "colab": {
          "base_uri": "https://localhost:8080/"
        },
        "id": "IZbvtBungzS6",
        "outputId": "a89b0f98-1d76-4d25-8b83-35143fcd6088"
      },
      "outputs": [
        {
          "output_type": "stream",
          "name": "stdout",
          "text": [
            "Drive already mounted at /content/drive; to attempt to forcibly remount, call drive.mount(\"/content/drive\", force_remount=True).\n"
          ]
        }
      ],
      "source": [
        "drive.mount(\"/content/drive\")"
      ]
    },
    {
      "cell_type": "code",
      "execution_count": null,
      "metadata": {
        "id": "TV9AwV1DeLMg"
      },
      "outputs": [],
      "source": [
        "import numpy as np,pandas as pd\n",
        "from matplotlib import pyplot as plt\n",
        "%matplotlib inline"
      ]
    },
    {
      "cell_type": "code",
      "execution_count": null,
      "metadata": {
        "id": "2AgxOmUTenqg"
      },
      "outputs": [],
      "source": [
        "data_table=pd.read_csv(\"/content/drive/MyDrive/Datasets/Lineardata_train.csv\")"
      ]
    },
    {
      "cell_type": "code",
      "execution_count": null,
      "metadata": {
        "id": "3oN5Qs5Vex4h"
      },
      "outputs": [],
      "source": [
        "data=data_table.to_numpy()"
      ]
    },
    {
      "cell_type": "code",
      "execution_count": null,
      "metadata": {
        "id": "lbkHUDt4iT7o"
      },
      "outputs": [],
      "source": [
        "y_train=data[:,0]\n",
        "y=y_train[:40000]\n",
        "y_cv=y_train[40000:]"
      ]
    },
    {
      "cell_type": "code",
      "execution_count": null,
      "metadata": {
        "id": "p0xV2Nj4jMjc"
      },
      "outputs": [],
      "source": [
        "x_train=data[:,1:]"
      ]
    },
    {
      "cell_type": "code",
      "source": [
        "def z_score_normalization(array):\n",
        "  mean=np.mean(array,axis=0)\n",
        "  std=np.std(array,axis=0)\n",
        "  array_norm=array\n",
        "  for i in range(np.shape(array)[0]):\n",
        "    array_norm[i,:]=(array_norm[i,:]-mean)/std\n",
        "  return(array_norm)"
      ],
      "metadata": {
        "id": "Cf7g5he3D_3c"
      },
      "execution_count": null,
      "outputs": []
    },
    {
      "cell_type": "code",
      "execution_count": null,
      "metadata": {
        "id": "FFQwQOM8oJHl"
      },
      "outputs": [],
      "source": [
        "x_train=z_score_normalization(x_train)\n",
        "x=x_train[:40000,:]\n",
        "x_cv=x_train[40000:,:]"
      ]
    },
    {
      "cell_type": "code",
      "execution_count": null,
      "metadata": {
        "id": "2YmfHjRKl2Fs"
      },
      "outputs": [],
      "source": [
        "w=np.ones((20,))"
      ]
    },
    {
      "cell_type": "code",
      "execution_count": null,
      "metadata": {
        "id": "Qm-7WUTomGIs"
      },
      "outputs": [],
      "source": [
        "b=0"
      ]
    },
    {
      "cell_type": "code",
      "execution_count": null,
      "metadata": {
        "id": "2G2ByTfxmI2l"
      },
      "outputs": [],
      "source": [
        "def cost_function(x,y,w,b):\n",
        "  j=(np.sum((np.dot(x,w)+b-y)**2))/(2*x.shape[0])\n",
        "  return(j)"
      ]
    },
    {
      "cell_type": "code",
      "execution_count": null,
      "metadata": {
        "id": "PXltEAAervMh"
      },
      "outputs": [],
      "source": [
        "def gradient(x,y,w,b):\n",
        "  t=(np.dot(x,w)+b-y)\n",
        "  m,n=np.shape(x)\n",
        "  dj_db=np.sum(t)/m\n",
        "  dj_dw=np.zeros((n,))\n",
        "  for i in range(n):\n",
        "    dj_dw[i]=(np.sum(np.dot(x[:,i],t)))/m\n",
        "  return(dj_dw,dj_db)"
      ]
    },
    {
      "cell_type": "code",
      "execution_count": null,
      "metadata": {
        "id": "aQKHRVwlvadm"
      },
      "outputs": [],
      "source": [
        "def gradient_descent(x,y,w,b,alpha,iterations):\n",
        "  m,n=np.shape(x)\n",
        "  j=cost_function(x,y,w,b)\n",
        "  print(\"Iterations: \",0,\"      Cost Function: \",j)\n",
        "  cf=np.zeros(iterations//100)\n",
        "  itera=np.zeros(iterations//100)\n",
        "  a=0\n",
        "  for i in range(1,iterations+1):\n",
        "    dj_dw,dj_db=gradient(x,y,w,b)\n",
        "    w=w-(alpha*dj_dw)\n",
        "    b=b-(alpha*dj_db)\n",
        "    j=cost_function(x,y,w,b)\n",
        "    if(i%100==0):\n",
        "      print(\"Iterations: \",i,\"    Cost Function: \",j)\n",
        "      cf[a]=j\n",
        "      itera[a]=i\n",
        "      a+=1\n",
        "  print(\"\\nTotal Iterations taken: \",iterations)\n",
        "  print(\"Cost Function: \",j)\n",
        "  return(w,b,cf,itera)"
      ]
    },
    {
      "cell_type": "code",
      "execution_count": null,
      "metadata": {
        "colab": {
          "base_uri": "https://localhost:8080/"
        },
        "id": "9e62yLtz5wnE",
        "outputId": "c1c83aad-081c-4958-9630-28c698e1ab1e"
      },
      "outputs": [
        {
          "output_type": "stream",
          "name": "stdout",
          "text": [
            "Iterations:  0       Cost Function:  65731363.08148191\n",
            "Iterations:  100     Cost Function:  2212.0103987896346\n",
            "Iterations:  200     Cost Function:  0.082760559161131\n",
            "Iterations:  300     Cost Function:  0.005051266296927173\n",
            "Iterations:  400     Cost Function:  0.005048418180736616\n",
            "Iterations:  500     Cost Function:  0.0050484180720748555\n",
            "Iterations:  600     Cost Function:  0.005048418072069397\n",
            "Iterations:  700     Cost Function:  0.005048418072070541\n",
            "Iterations:  800     Cost Function:  0.005048418072070106\n",
            "Iterations:  900     Cost Function:  0.005048418072070106\n",
            "Iterations:  1000     Cost Function:  0.005048418072070106\n",
            "\n",
            "Total Iterations taken:  1000\n",
            "Cost Function:  0.005048418072070106\n"
          ]
        }
      ],
      "source": [
        "w,b,cf,itera=gradient_descent(x,y,w,b,5.0e-2,1000)"
      ]
    },
    {
      "cell_type": "code",
      "execution_count": null,
      "metadata": {
        "id": "J2sqTzTvXheC",
        "colab": {
          "base_uri": "https://localhost:8080/"
        },
        "outputId": "6327a45d-1f40-4a0c-d609-be8a2654a91c"
      },
      "outputs": [
        {
          "output_type": "execute_result",
          "data": {
            "text/plain": [
              "array([2.20194859e+01, 3.31498881e+01, 9.95556536e+00, 6.05402494e+00,\n",
              "       1.75469027e+02, 3.29905039e+02, 2.53981177e+02, 9.02616670e+02,\n",
              "       4.35807984e+02, 8.38966333e+01, 1.21226556e+02, 1.60618568e+03,\n",
              "       1.67667921e+03, 1.31341726e+03, 5.99392456e+02, 1.05495142e+04,\n",
              "       5.04448547e+02, 6.78421997e+02, 3.16485238e+03, 2.30428201e+02])"
            ]
          },
          "metadata": {},
          "execution_count": 16
        }
      ],
      "source": [
        "w"
      ]
    },
    {
      "cell_type": "code",
      "execution_count": null,
      "metadata": {
        "id": "X_op9Aq_XiUS",
        "colab": {
          "base_uri": "https://localhost:8080/"
        },
        "outputId": "389c2c27-0852-4fd7-9fd4-c4d0deae82f1"
      },
      "outputs": [
        {
          "output_type": "execute_result",
          "data": {
            "text/plain": [
              "60.36341837062838"
            ]
          },
          "metadata": {},
          "execution_count": 17
        }
      ],
      "source": [
        "b"
      ]
    },
    {
      "cell_type": "code",
      "execution_count": null,
      "metadata": {
        "id": "F37HgF0AmMOW"
      },
      "outputs": [],
      "source": [
        "y_hat=np.zeros((40000,))"
      ]
    },
    {
      "cell_type": "code",
      "execution_count": null,
      "metadata": {
        "id": "pMPfSEQJpuJV"
      },
      "outputs": [],
      "source": [
        "for i in range(40000):\n",
        "  y_hat[i]=np.dot(w,x[i,:])+b"
      ]
    },
    {
      "cell_type": "code",
      "source": [
        "plt.plot(itera,cf)\n",
        "plt.xlabel(\"Number of Iterations\")\n",
        "plt.ylabel(\"Cost Function\")\n",
        "plt.show()"
      ],
      "metadata": {
        "colab": {
          "base_uri": "https://localhost:8080/",
          "height": 449
        },
        "id": "11jm-dIjzpPv",
        "outputId": "849981c6-c4b4-448c-b48c-7f7cbf17fc7a"
      },
      "execution_count": null,
      "outputs": [
        {
          "output_type": "display_data",
          "data": {
            "text/plain": [
              "<Figure size 640x480 with 1 Axes>"
            ],
            "image/png": "[encoded data removed]"
          },
          "metadata": {}
        }
      ]
    },
    {
      "cell_type": "code",
      "source": [
        "y_avg=np.average(y)\n",
        "r2=0\n",
        "num=0\n",
        "dem=0\n",
        "m=np.shape(y)[0]\n",
        "for i in range(m):\n",
        "  num+=(y_hat[i]-y[i])**2\n",
        "  dem+=(y_avg-y[i])**2\n",
        "r2=1-(num/dem)\n",
        "print(r2)"
      ],
      "metadata": {
        "colab": {
          "base_uri": "https://localhost:8080/"
        },
        "id": "8cZ4dzU179Yj",
        "outputId": "fc27a079-c344-4c10-9b94-cd8a7b7020a7"
      },
      "execution_count": null,
      "outputs": [
        {
          "output_type": "stream",
          "name": "stdout",
          "text": [
            "0.9999999999232193\n"
          ]
        }
      ]
    },
    {
      "cell_type": "code",
      "source": [
        "y_cv_hat=np.zeros((10000,))\n",
        "for i in range(10000):\n",
        "  y_cv_hat[i]=((np.dot(w,x_cv[i,:]))+b)"
      ],
      "metadata": {
        "id": "TSYjYnca79VI"
      },
      "execution_count": null,
      "outputs": []
    },
    {
      "cell_type": "code",
      "source": [
        "y_cv_avg=np.average(y_cv)\n",
        "r2=0\n",
        "num=0\n",
        "dem=0\n",
        "m=np.shape(y_cv)[0]\n",
        "for i in range(m):\n",
        "  num+=(y_cv_hat[i]-y_cv[i])**2\n",
        "  dem+=(y_cv_avg-y_cv[i])**2\n",
        "r2=1-(num/dem)\n",
        "print(r2)\n",
        "print(\"As the r2 value for train an cross validation set is very similar hence we can finalize this Machine Learning model.\")"
      ],
      "metadata": {
        "colab": {
          "base_uri": "https://localhost:8080/"
        },
        "id": "ztBiN7aU79RH",
        "outputId": "72596588-7ffc-4e06-e537-81640e77156e"
      },
      "execution_count": null,
      "outputs": [
        {
          "output_type": "stream",
          "name": "stdout",
          "text": [
            "0.9999999999216167\n",
            "As the r2 value for train an cross validation set is very similar hence we can finalize this Machine Learning model.\n"
          ]
        }
      ]
    },
    {
      "cell_type": "code",
      "source": [
        "#now use test data\n",
        "data_table_test=pd.read_csv(\"/content/drive/MyDrive/Datasets/Lineardata_test.csv\")\n",
        "data_test=data_table_test.to_numpy()\n",
        "x_test=data_test[:,1:]\n",
        "x_test=z_score_normalization(x_test)"
      ],
      "metadata": {
        "id": "TjsUqFBmCwqN"
      },
      "execution_count": null,
      "outputs": []
    },
    {
      "cell_type": "code",
      "source": [
        "y_test=np.zeros((10000,))\n",
        "for i in range(10000):\n",
        "  y_test[i]=np.dot(w,x_test[i,:])+b"
      ],
      "metadata": {
        "id": "xNq0nBrQE1Si"
      },
      "execution_count": null,
      "outputs": []
    },
    {
      "cell_type": "code",
      "source": [
        "y_final=pd.DataFrame(y_test)"
      ],
      "metadata": {
        "id": "PRFAjWf2Z03L"
      },
      "execution_count": null,
      "outputs": []
    },
    {
      "cell_type": "code",
      "source": [
        "y_final.to_csv(\"Result_linear_test.csv\")\n",
        "from google.colab import files\n",
        "files.download('Result_linear_test.csv')"
      ],
      "metadata": {
        "id": "GjylUZWHaWO3"
      },
      "execution_count": null,
      "outputs": []
    }
  ],
  "metadata": {
    "colab": {
      "provenance": []
    },
    "kernelspec": {
      "display_name": "Python 3",
      "name": "python3"
    },
    "language_info": {
      "name": "python"
    }
  },
  "nbformat": 4,
  "nbformat_minor": 0
}