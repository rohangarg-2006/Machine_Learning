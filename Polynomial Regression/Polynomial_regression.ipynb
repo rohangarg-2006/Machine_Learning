{
  "cells": [
    {
      "cell_type": "code",
      "execution_count": null,
      "metadata": {
        "id": "DxlfLiYM4W16"
      },
      "outputs": [],
      "source": [
        "from google.colab import drive"
      ]
    },
    {
      "cell_type": "code",
      "execution_count": null,
      "metadata": {
        "colab": {
          "base_uri": "https://localhost:8080/"
        },
        "id": "q-fvoT1H4d8q",
        "outputId": "a3e1d23b-0209-4dec-fc63-ed219f442198"
      },
      "outputs": [
        {
          "output_type": "stream",
          "name": "stdout",
          "text": [
            "Mounted at /content/drive\n"
          ]
        }
      ],
      "source": [
        "drive.mount(\"/content/drive\")"
      ]
    },
    {
      "cell_type": "code",
      "execution_count": null,
      "metadata": {
        "id": "VR1Spp0E4f8f"
      },
      "outputs": [],
      "source": [
        "import numpy as np,pandas as pd\n",
        "from matplotlib import pyplot as plt\n",
        "%matplotlib inline"
      ]
    },
    {
      "cell_type": "code",
      "execution_count": null,
      "metadata": {
        "id": "-bJDPYKn4kiy"
      },
      "outputs": [],
      "source": [
        "data_table=pd.read_csv(\"/content/drive/MyDrive/Datasets/Polynomialdata_train.csv\")"
      ]
    },
    {
      "cell_type": "code",
      "execution_count": null,
      "metadata": {
        "id": "6LTcExTc4tAm"
      },
      "outputs": [],
      "source": [
        "data=data_table.to_numpy()"
      ]
    },
    {
      "cell_type": "code",
      "execution_count": null,
      "metadata": {
        "id": "HWdXTMAB4wV0"
      },
      "outputs": [],
      "source": [
        "y_total=data[:,0]\n",
        "y=y_total[:45000]\n",
        "y_cv=y_total[45000:]"
      ]
    },
    {
      "cell_type": "code",
      "execution_count": null,
      "metadata": {
        "id": "M_SFSsKK4yQY"
      },
      "outputs": [],
      "source": [
        "x_train_total=data[:,1:]"
      ]
    },
    {
      "cell_type": "code",
      "execution_count": null,
      "metadata": {
        "id": "muzViB-wd22a"
      },
      "outputs": [],
      "source": [
        "def z_score_normalization(array):\n",
        "  mean=np.mean(array,axis=0)\n",
        "  std=np.std(array,axis=0)\n",
        "  array_norm=array\n",
        "  for i in range(np.shape(array)[0]):\n",
        "    array_norm[i,:]=(array_norm[i,:]-mean)/std\n",
        "  return(array_norm)"
      ]
    },
    {
      "cell_type": "code",
      "execution_count": null,
      "metadata": {
        "id": "nTbjOZSQ5f60"
      },
      "outputs": [],
      "source": [
        "def cost_function(x,y,w,b):\n",
        "  j=(np.sum((np.dot(x,w)+b-y)**2))/(2*x.shape[0])\n",
        "  return(j)"
      ]
    },
    {
      "cell_type": "code",
      "execution_count": null,
      "metadata": {
        "id": "Y738-mqk67k1"
      },
      "outputs": [],
      "source": [
        "def gradient(x,y,w,b):\n",
        "  t=(np.dot(x,w)+b-y)\n",
        "  m,n=np.shape(x)\n",
        "  dj_db=np.sum(t)/m\n",
        "  dj_dw=np.zeros((n,))\n",
        "  for i in range(n):\n",
        "    dj_dw[i]=(np.sum(np.dot(x[:,i],t)))/m\n",
        "  return(dj_dw,dj_db)"
      ]
    },
    {
      "cell_type": "code",
      "execution_count": null,
      "metadata": {
        "id": "A73G-uRY7ANs"
      },
      "outputs": [],
      "source": [
        "def gradient_descent(x,y,w,b,alpha,iterations):\n",
        "  m,n=np.shape(x)\n",
        "  j=cost_function(x,y,w,b)\n",
        "  print(\"Iterations: \",0,\"      Cost Function: \",j)\n",
        "  cf=np.zeros(iterations//1000)\n",
        "  itera=np.zeros(iterations//1000)\n",
        "  a=0\n",
        "  for i in range(1,iterations+1):\n",
        "    dj_dw,dj_db=gradient(x,y,w,b)\n",
        "    w=w-(alpha*dj_dw)\n",
        "    b=b-(alpha*dj_db)\n",
        "    j=cost_function(x,y,w,b)\n",
        "    if(i%2000==0):\n",
        "      print(\"Iterations: \",i,\"    Cost Function: \",j)\n",
        "      cf[a]=j\n",
        "      itera[a]=i\n",
        "      a+=1\n",
        "  print(\"\\nTotal Iterations taken: \",iterations)\n",
        "  print(\"Cost Function: \",j)\n",
        "  return(w,b,cf,itera)"
      ]
    },
    {
      "cell_type": "code",
      "source": [
        "def power_matrix(d):\n",
        "  a=(d+1)**3\n",
        "  p=np.zeros((a,3))\n",
        "  z=0\n",
        "  for i in range(d+1):\n",
        "    for j in range(d+1):\n",
        "      for k in range(d+1):\n",
        "        if ((i+j+k)<=d):\n",
        "          p[z]=[i,j,k]\n",
        "          z+=1\n",
        "  p=np.unique(p, axis=0)\n",
        "  return p\n",
        "def poly_generator(d,x_train):\n",
        "  f1=x_train[:,0].reshape(-1,1)\n",
        "  f2=x_train[:,1].reshape(-1,1)\n",
        "  f3=x_train[:,2].reshape(-1,1)\n",
        "  x=np.zeros(f1.shape)\n",
        "  p=power_matrix(d)\n",
        "  n=p.shape[0]\n",
        "  for i in range(n):\n",
        "    if((p[i,0]==0)and(p[i,1]==0)and(p[i,2]==0)):\n",
        "      continue\n",
        "    else:\n",
        "      new_column=((f1**p[i,0])*(f2**p[i,1])*(f3**p[i,2]))\n",
        "      x=np.concatenate((x,new_column),axis=1)\n",
        "  x=np.delete(x,0,axis=1)\n",
        "  return(x)"
      ],
      "metadata": {
        "id": "BFlTumz832UB"
      },
      "execution_count": null,
      "outputs": []
    },
    {
      "cell_type": "markdown",
      "source": [
        "###6 Degree Polynomial"
      ],
      "metadata": {
        "id": "gAR6J-glmZ-X"
      }
    },
    {
      "cell_type": "code",
      "source": [
        "x_total=poly_generator(6,x_train_total)\n",
        "x_total=z_score_normalization(x_total)\n",
        "x=x_total[:45000,:]\n",
        "x_cv=x_total[45000:,:]\n",
        "w=np.ones((x.shape[1],))\n",
        "b=1"
      ],
      "metadata": {
        "id": "VM6pIOvjmWje"
      },
      "execution_count": null,
      "outputs": []
    },
    {
      "cell_type": "code",
      "source": [
        "w,b,cf,itera=gradient_descent(x,y,w,b,2.0e-1,20000)"
      ],
      "metadata": {
        "colab": {
          "base_uri": "https://localhost:8080/"
        },
        "outputId": "96546798-34e7-4ca3-dd29-2fd19954a681",
        "id": "7imEhU2XmWjt"
      },
      "execution_count": null,
      "outputs": [
        {
          "output_type": "stream",
          "name": "stdout",
          "text": [
            "Iterations:  0       Cost Function:  69287441601259.43\n",
            "Iterations:  2000     Cost Function:  10182703.263432682\n",
            "Iterations:  4000     Cost Function:  1843.5368025863445\n",
            "Iterations:  6000     Cost Function:  0.8208392145694045\n",
            "Iterations:  8000     Cost Function:  0.0004710262119089227\n",
            "Iterations:  10000     Cost Function:  2.801128938411604e-07\n",
            "Iterations:  12000     Cost Function:  1.6749203558786527e-10\n",
            "Iterations:  14000     Cost Function:  1.0055368915102411e-13\n",
            "Iterations:  16000     Cost Function:  3.222502991147372e-16\n",
            "Iterations:  18000     Cost Function:  2.2075718643687518e-16\n",
            "Iterations:  20000     Cost Function:  2.1449423871917658e-16\n",
            "\n",
            "Total Iterations taken:  20000\n",
            "Cost Function:  2.1449423871917658e-16\n"
          ]
        }
      ]
    },
    {
      "cell_type": "code",
      "source": [
        "y_hat=np.zeros((45000,))"
      ],
      "metadata": {
        "id": "8GGzSiUCmWjt"
      },
      "execution_count": null,
      "outputs": []
    },
    {
      "cell_type": "code",
      "source": [
        "for i in range(45000):\n",
        "  y_hat[i]=np.dot(w,x[i,:])+b"
      ],
      "metadata": {
        "id": "FdM113nPmWjt"
      },
      "execution_count": null,
      "outputs": []
    },
    {
      "cell_type": "code",
      "source": [
        "plt.plot(itera,cf)\n",
        "plt.xlabel(\"Number of Iterations\")\n",
        "plt.ylabel(\"Cost Function\")\n",
        "plt.show()"
      ],
      "metadata": {
        "id": "-EMfFJRzmWjt",
        "colab": {
          "base_uri": "https://localhost:8080/",
          "height": 465
        },
        "outputId": "2991637c-8ffa-49df-c61c-b70edf13aa2c"
      },
      "execution_count": null,
      "outputs": [
        {
          "output_type": "display_data",
          "data": {
            "text/plain": [
              "<Figure size 640x480 with 1 Axes>"
            ],
            "image/png": "[encoded data removed]"
          },
          "metadata": {}
        }
      ]
    },
    {
      "cell_type": "code",
      "source": [
        "plt.scatter(x[0:100,-3],y[0:100],c=\"b\",label=\"Actual Values\")\n",
        "plt.scatter(x[0:100,-3],y_hat[0:100],c=\"r\",label=\"My Prediction\")\n",
        "plt.title(\"Plot for Feature 1 for training set\")\n",
        "plt.xlabel(\"X\")\n",
        "plt.ylabel(\"Y\")\n",
        "plt.legend()\n",
        "plt.show()"
      ],
      "metadata": {
        "id": "kWIhvaowmWjt",
        "colab": {
          "base_uri": "https://localhost:8080/",
          "height": 472
        },
        "outputId": "ed585ece-446d-48c1-f574-790d78e95004"
      },
      "execution_count": null,
      "outputs": [
        {
          "output_type": "display_data",
          "data": {
            "text/plain": [
              "<Figure size 640x480 with 1 Axes>"
            ],
            "image/png": "[encoded data removed]"
          },
          "metadata": {}
        }
      ]
    },
    {
      "cell_type": "code",
      "source": [
        "y_avg=np.average(y)\n",
        "r2=0\n",
        "num=0\n",
        "dem=0\n",
        "m=np.shape(y)[0]\n",
        "for i in range(m):\n",
        "  num+=(y_hat[i]-y[i])**2\n",
        "  dem+=(y_avg-y[i])**2\n",
        "r2=1-(num/dem)\n",
        "print(r2)\n",
        "print(\"As r2 is pretty good we can finalise it here.\")"
      ],
      "metadata": {
        "id": "_h_Uv9CamWju",
        "colab": {
          "base_uri": "https://localhost:8080/"
        },
        "outputId": "3044e39d-06a7-42b1-ace5-f1cf9db3e3ea"
      },
      "execution_count": null,
      "outputs": [
        {
          "output_type": "stream",
          "name": "stdout",
          "text": [
            "1.0\n",
            "As r2 is pretty good we can finalise it here.\n"
          ]
        }
      ]
    },
    {
      "cell_type": "code",
      "execution_count": null,
      "metadata": {
        "id": "1SGHOnIo9OwO"
      },
      "outputs": [],
      "source": [
        "y_cv_hat=np.zeros((5000,))\n",
        "for i in range(5000):\n",
        "  y_cv_hat[i]=np.dot(w,x_cv[i,:])+b"
      ]
    },
    {
      "cell_type": "code",
      "execution_count": null,
      "metadata": {
        "id": "Yiwv3LRMiXG5",
        "colab": {
          "base_uri": "https://localhost:8080/"
        },
        "outputId": "6a922820-f898-4b3c-b1b5-dcb56df762fb"
      },
      "outputs": [
        {
          "output_type": "stream",
          "name": "stdout",
          "text": [
            "1.0\n"
          ]
        }
      ],
      "source": [
        "y_cv_avg=np.average(y_cv)\n",
        "r2=0\n",
        "num=0\n",
        "dem=0\n",
        "m=np.shape(y_cv)[0]\n",
        "for i in range(m):\n",
        "  num+=(y_cv_hat[i]-y_cv[i])**2\n",
        "  dem+=(y_cv_avg-y_cv[i])**2\n",
        "r2=1-(num/dem)\n",
        "print(r2)"
      ]
    },
    {
      "cell_type": "markdown",
      "source": [
        "As we can see that the r2 value is pretty good and almost same for the training and cross validation set. Hence we can finalise it"
      ],
      "metadata": {
        "id": "v4MSszOAC_nq"
      }
    },
    {
      "cell_type": "code",
      "execution_count": null,
      "metadata": {
        "id": "Cq9xe-lkxhFq",
        "colab": {
          "base_uri": "https://localhost:8080/",
          "height": 472
        },
        "outputId": "7dc49bf0-c495-4163-93ea-095dcf2f12fa"
      },
      "outputs": [
        {
          "output_type": "display_data",
          "data": {
            "text/plain": [
              "<Figure size 640x480 with 1 Axes>"
            ],
            "image/png": "[encoded data removed]"
          },
          "metadata": {}
        }
      ],
      "source": [
        "plt.scatter(x_cv[0:100,-3],y_cv[0:100],c=\"b\",label=\"Actual Values\")\n",
        "plt.scatter(x_cv[0:100,-3],y_cv_hat[0:100],c=\"r\",label=\"My Prediction\")\n",
        "plt.title(\"Plot for Feature 1 for cv set\")\n",
        "plt.xlabel(\"X_cv\")\n",
        "plt.ylabel(\"Y_cv\")\n",
        "plt.legend()\n",
        "plt.show()"
      ]
    },
    {
      "cell_type": "code",
      "execution_count": null,
      "metadata": {
        "id": "fmfwAZOjz4SS"
      },
      "outputs": [],
      "source": [
        "#now use test data\n",
        "data_table_test=pd.read_csv(\"/content/drive/MyDrive/Datasets/Polynomialdata_test.csv\")\n",
        "data_test=data_table_test.to_numpy()\n",
        "x_test_total=data_test[:,1:]\n",
        "x_total=poly_generator(6,x_test_total)\n",
        "x_test=z_score_normalization(x_total)"
      ]
    },
    {
      "cell_type": "code",
      "source": [
        "y_test=np.zeros((10000,))\n",
        "for i in range(10000):\n",
        "  y_test[i]=np.dot(w,x_test[i,:])+b"
      ],
      "metadata": {
        "id": "ZRUS63s-F5f1"
      },
      "execution_count": null,
      "outputs": []
    },
    {
      "cell_type": "code",
      "source": [
        "y_final=pd.DataFrame(y_test)"
      ],
      "metadata": {
        "id": "fSxn07nEGdhe"
      },
      "execution_count": null,
      "outputs": []
    },
    {
      "cell_type": "code",
      "source": [
        "y_final.to_csv(\"Result_Polynomial_test.csv\")"
      ],
      "metadata": {
        "id": "ETzNt5nHGhZi"
      },
      "execution_count": null,
      "outputs": []
    },
    {
      "cell_type": "code",
      "source": [
        "from google.colab import files\n",
        "files.download('Result_Polynomial_test.csv')"
      ],
      "metadata": {
        "id": "JP09Wbo6GhcS",
        "colab": {
          "base_uri": "https://localhost:8080/",
          "height": 17
        },
        "outputId": "77692327-95fb-4cd2-c598-57f3323c8a9c"
      },
      "execution_count": null,
      "outputs": [
        {
          "output_type": "display_data",
          "data": {
            "text/plain": [
              "<IPython.core.display.Javascript object>"
            ],
            "application/javascript": [
              "\n",
              "    async function download(id, filename, size) {\n",
              "      if (!google.colab.kernel.accessAllowed) {\n",
              "        return;\n",
              "      }\n",
              "      const div = document.createElement('div');\n",
              "      const label = document.createElement('label');\n",
              "      label.textContent = `Downloading \"${filename}\": `;\n",
              "      div.appendChild(label);\n",
              "      const progress = document.createElement('progress');\n",
              "      progress.max = size;\n",
              "      div.appendChild(progress);\n",
              "      document.body.appendChild(div);\n",
              "\n",
              "      const buffers = [];\n",
              "      let downloaded = 0;\n",
              "\n",
              "      const channel = await google.colab.kernel.comms.open(id);\n",
              "      // Send a message to notify the kernel that we're ready.\n",
              "      channel.send({})\n",
              "\n",
              "      for await (const message of channel.messages) {\n",
              "        // Send a message to notify the kernel that we're ready.\n",
              "        channel.send({})\n",
              "        if (message.buffers) {\n",
              "          for (const buffer of message.buffers) {\n",
              "            buffers.push(buffer);\n",
              "            downloaded += buffer.byteLength;\n",
              "            progress.value = downloaded;\n",
              "          }\n",
              "        }\n",
              "      }\n",
              "      const blob = new Blob(buffers, {type: 'application/binary'});\n",
              "      const a = document.createElement('a');\n",
              "      a.href = window.URL.createObjectURL(blob);\n",
              "      a.download = filename;\n",
              "      div.appendChild(a);\n",
              "      a.click();\n",
              "      div.remove();\n",
              "    }\n",
              "  "
            ]
          },
          "metadata": {}
        },
        {
          "output_type": "display_data",
          "data": {
            "text/plain": [
              "<IPython.core.display.Javascript object>"
            ],
            "application/javascript": [
              "download(\"download_8afedea2-e321-438b-8c3b-1c288a8f4ba1\", \"Result_Polynomial_test.csv\", 240293)"
            ]
          },
          "metadata": {}
        }
      ]
    }
  ],
  "metadata": {
    "colab": {
      "provenance": []
    },
    "kernelspec": {
      "display_name": "Python 3",
      "name": "python3"
    },
    "language_info": {
      "name": "python"
    }
  },
  "nbformat": 4,
  "nbformat_minor": 0
}